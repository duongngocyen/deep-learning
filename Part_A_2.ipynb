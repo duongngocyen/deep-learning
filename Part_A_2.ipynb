{
 "cells": [
  {
   "cell_type": "markdown",
   "metadata": {},
   "source": [
    "# Question A2 (10 marks)"
   ]
  },
  {
   "cell_type": "markdown",
   "metadata": {},
   "source": [
    "### In this question, we will determine the optimal batch size for mini-batch gradient descent. Find the optimal batch size for mini-batch gradient descent by training the neural network and evaluating the performances for different batch sizes. Note: Use 5-fold cross-validation on the training partition to perform hyperparameter selection. You will have to reconsider the scaling of the dataset during the 5-fold cross validation."
   ]
  },
  {
   "cell_type": "markdown",
   "metadata": {},
   "source": [
    "#### Plot mean cross-validation accuracies on the final epoch for different batch sizes as a scatter plot. Limit search space to batch sizes {64, 128, 256, 512}. Next, create a table of time taken to train the network on the last epoch against different batch sizes. Finally, select the optimal batch size and state a reason for your selection.\n",
    "\n",
    "\n",
    "This might take a while to run, so plan your time carefully."
   ]
  },
  {
   "cell_type": "code",
   "execution_count": 2,
   "metadata": {},
   "outputs": [],
   "source": [
    "import tqdm\n",
    "import time\n",
    "import random\n",
    "import numpy as np\n",
    "import pandas as pd\n",
    "import matplotlib.pyplot as plt\n",
    "\n",
    "import torch\n",
    "from torch import nn\n",
    "from torch.utils.data import Dataset\n",
    "from torch.utils.data import DataLoader\n",
    "\n",
    "from scipy.io import wavfile as wav\n",
    "\n",
    "from sklearn import preprocessing\n",
    "from sklearn.model_selection import KFold\n",
    "from sklearn.model_selection import train_test_split\n",
    "from sklearn.metrics import f1_score, precision_score, recall_score, confusion_matrix\n",
    "\n",
    "from common_utils import set_seed\n",
    "\n",
    "# setting seed\n",
    "set_seed()"
   ]
  },
  {
   "cell_type": "markdown",
   "metadata": {},
   "source": [
    "1.To reduce repeated code, place your\n",
    "\n",
    "- network (MLP defined in QA1)\n",
    "\n",
    "- torch datasets (CustomDataset defined in QA1)\n",
    "- loss function (loss_fn defined in QA1)\n",
    "in a separate file called common_utils.py\n",
    "\n",
    "Import them into this file. You will not be repenalised for any error in QA1 here as the code in QA1 will not be remarked.\n",
    "\n",
    "The following code cell will not be marked."
   ]
  },
  {
   "cell_type": "code",
   "execution_count": 3,
   "metadata": {},
   "outputs": [],
   "source": [
    "# YOUR CODE HERE\n",
    "\n",
    "from common_utils import MLP, CustomDataset, loss_fn"
   ]
  },
  {
   "cell_type": "code",
   "execution_count": 4,
   "metadata": {},
   "outputs": [],
   "source": [
    "from common_utils import split_dataset\n",
    "\n",
    "df = pd.read_csv('simplified.csv')\n",
    "df['label'] = df['filename'].str.split('_').str[-2]\n",
    "columns_to_drop = ['filename', 'label']\n",
    "\n",
    "X_train, y_train, X_test, y_test = split_dataset(df, columns_to_drop=columns_to_drop, test_size=0.2, random_state=0)"
   ]
  },
  {
   "cell_type": "markdown",
   "metadata": {},
   "source": [
    "2.Define different folds for different batch sizes to get a dictionary of training and validation datasets. Preprocess your datasets accordingly."
   ]
  },
  {
   "cell_type": "code",
   "execution_count": 5,
   "metadata": {},
   "outputs": [],
   "source": [
    "def generate_cv_folds_for_batch_sizes(parameters, X_train, y_train):\n",
    "    \"\"\"\n",
    "    returns:\n",
    "    X_train_scaled_dict(dict) where X_train_scaled_dict[batch_size] is a list of the preprocessed training matrix for the different folds.\n",
    "    X_val_scaled_dict(dict) where X_val_scaled_dict[batch_size] is a list of the processed validation matrix for the different folds.\n",
    "    y_train_dict(dict) where y_train_dict[batch_size] is a list of labels for the different folds\n",
    "    y_val_dict(dict) where y_val_dict[batch_size] is a list of labels for the different folds\n",
    "    \"\"\"\n",
    "    # YOUR CODE HERE\n",
    "    X_train_scaled_dict = {}\n",
    "    X_val_scaled_dict = {}\n",
    "    y_train_dict = {}\n",
    "    y_val_dict = {}\n",
    "\n",
    "    scaler = preprocessing.StandardScaler()\n",
    "\n",
    "    kf = KFold(n_splits=5, shuffle=True, random_state=0)\n",
    "\n",
    "    for batch_size in batch_sizes:\n",
    "        X_train_scaled_dict[batch_size] = []\n",
    "        X_val_scaled_dict[batch_size] = []\n",
    "        y_train_dict[batch_size] = []\n",
    "        y_val_dict[batch_size] = []\n",
    "\n",
    "        for train_idx, val_idx in kf.split(X_train):\n",
    "            X_train_fold = X_train[train_idx]\n",
    "            X_val_fold = X_train[val_idx]\n",
    "            y_train_fold = y_train[train_idx]\n",
    "            y_val_fold = y_train[val_idx]\n",
    "            \n",
    "            # do scaler with respect to each fold\n",
    "            X_train_fold_scaled = scaler.fit_transform(X_train_fold)\n",
    "            X_val_fold_scaled = scaler.transform(X_val_fold)\n",
    "\n",
    "            X_train_scaled_dict[batch_size].append(X_train_fold_scaled)\n",
    "            X_val_scaled_dict[batch_size].append(X_val_fold_scaled)\n",
    "            y_train_dict[batch_size].append(y_train_fold)\n",
    "            y_val_dict[batch_size].append(y_val_fold)\n",
    "    \n",
    "    return X_train_scaled_dict, X_val_scaled_dict, y_train_dict, y_val_dict\n",
    "\n",
    "batch_sizes = [64, 128, 256, 512]\n",
    "X_train_scaled_dict, X_val_scaled_dict, y_train_dict, y_val_dict = generate_cv_folds_for_batch_sizes(batch_sizes, X_train.to_numpy(), y_train)"
   ]
  },
  {
   "cell_type": "markdown",
   "metadata": {},
   "source": []
  },
  {
   "cell_type": "code",
   "execution_count": null,
   "metadata": {},
   "outputs": [],
   "source": []
  },
  {
   "cell_type": "code",
   "execution_count": null,
   "metadata": {},
   "outputs": [],
   "source": []
  },
  {
   "cell_type": "markdown",
   "metadata": {},
   "source": [
    "3.Perform hyperparameter tuning for the different batch sizes with 5-fold cross validation."
   ]
  },
  {
   "cell_type": "code",
   "execution_count": 6,
   "metadata": {},
   "outputs": [
    {
     "name": "stdout",
     "output_type": "stream",
     "text": [
      "batch size: 64\n",
      "Early stopping at epoch 30!\n",
      "experiment 1: accuracy: 0.762571; last epoch time 0.192869\n",
      "Early stopping at epoch 17!\n",
      "experiment 2: accuracy: 0.724728; last epoch time 0.193477\n",
      "Early stopping at epoch 31!\n",
      "experiment 3: accuracy: 0.754277; last epoch time 0.158350\n",
      "Early stopping at epoch 18!\n",
      "experiment 4: accuracy: 0.725765; last epoch time 0.169449\n",
      "Early stopping at epoch 25!\n",
      "experiment 5: accuracy: 0.762571; last epoch time 0.159408\n",
      "batch size 64: mean accuracy: 0.745982; mean last epoch time 0.174711\n",
      "batch size: 128\n",
      "Early stopping at epoch 33!\n",
      "experiment 1: accuracy: 0.778123; last epoch time 0.099476\n",
      "Early stopping at epoch 24!\n",
      "experiment 2: accuracy: 0.734578; last epoch time 0.100492\n",
      "Early stopping at epoch 28!\n",
      "experiment 3: accuracy: 0.748574; last epoch time 0.098601\n",
      "Early stopping at epoch 25!\n",
      "experiment 4: accuracy: 0.725246; last epoch time 0.098140\n",
      "Early stopping at epoch 31!\n",
      "experiment 5: accuracy: 0.754277; last epoch time 0.098016\n",
      "batch size 128: mean accuracy: 0.748160; mean last epoch time 0.098945\n",
      "batch size: 256\n",
      "Early stopping at epoch 34!\n",
      "experiment 1: accuracy: 0.756350; last epoch time 0.071942\n",
      "Early stopping at epoch 25!\n",
      "experiment 2: accuracy: 0.723691; last epoch time 0.070705\n",
      "Early stopping at epoch 24!\n",
      "experiment 3: accuracy: 0.726801; last epoch time 0.070399\n",
      "Early stopping at epoch 22!\n",
      "experiment 4: accuracy: 0.718507; last epoch time 0.070310\n",
      "Early stopping at epoch 35!\n",
      "experiment 5: accuracy: 0.757906; last epoch time 0.070535\n",
      "batch size 256: mean accuracy: 0.736651; mean last epoch time 0.070778\n",
      "batch size: 512\n",
      "Early stopping at epoch 29!\n",
      "experiment 1: accuracy: 0.730949; last epoch time 0.054245\n",
      "Early stopping at epoch 28!\n",
      "experiment 2: accuracy: 0.714878; last epoch time 0.054310\n",
      "Early stopping at epoch 37!\n",
      "experiment 3: accuracy: 0.726801; last epoch time 0.054376\n",
      "Early stopping at epoch 37!\n",
      "experiment 4: accuracy: 0.719544; last epoch time 0.054390\n",
      "Early stopping at epoch 29!\n",
      "experiment 5: accuracy: 0.712805; last epoch time 0.054069\n",
      "batch size 512: mean accuracy: 0.720995; mean last epoch time 0.054278\n"
     ]
    }
   ],
   "source": [
    "# YOUR CODE HERE\n",
    "from common_utils import EarlyStopper, train_loop, val_loop\n",
    "\n",
    "def find_optimal_hyperparameter(X_train_scaled_dict, X_val_scaled_dict, y_train_dict, y_val_dict, batch_sizes, param_name):\n",
    "    no_features = 77\n",
    "    no_hiddens = 128\n",
    "    no_labels = 1\n",
    "    lr = 0.001\n",
    "    fold=5\n",
    "    \n",
    "    accuracies = {}\n",
    "    last_epoch_times = {}\n",
    "\n",
    "    for batch_size in batch_sizes:\n",
    "        accuracy = []\n",
    "        last_epoch_time = []\n",
    "        print(f\"batch size: {batch_size}\")\n",
    "\n",
    "        for i in range(fold):\n",
    "            no_epochs = 100\n",
    "\n",
    "            model = MLP(no_features, no_hiddens, no_labels)\n",
    "            optimizer = torch.optim.Adam(model.parameters(), lr=lr)\n",
    "\n",
    "            train_dataset = CustomDataset(X_train_scaled_dict[batch_size][i], y_train_dict[batch_size][i])\n",
    "            val_dataset = CustomDataset(X_val_scaled_dict[batch_size][i], y_val_dict[batch_size][i])\n",
    "            train_dataloader = DataLoader(train_dataset, batch_size=batch_size, shuffle=True)\n",
    "            val_dataloader = DataLoader(val_dataset, batch_size=batch_size, shuffle=True)\n",
    "\n",
    "            early_stopper = EarlyStopper(patience=3, min_delta=0)\n",
    "\n",
    "            for epoch in range(no_epochs):\n",
    "                start_time = time.time()\n",
    "\n",
    "                train_loop(train_dataloader, model, loss_fn, optimizer)\n",
    "        \n",
    "                val_loss, val_acc = val_loop(val_dataloader, model, loss_fn)\n",
    "\n",
    "                end_time = time.time()\n",
    "\n",
    "                if early_stopper.early_stop(val_loss): \n",
    "                    print(f\"Early stopping at epoch {epoch + 1}!\")\n",
    "                    break\n",
    "            \n",
    "            accuracy.append(val_acc)\n",
    "            last_epoch_time.append(end_time - start_time)\n",
    "            print(f\"experiment {i + 1}: accuracy: {val_acc:>4f}; last epoch time {end_time - start_time:>4f}\")\n",
    "\n",
    "        accuracies[batch_size] = accuracy \n",
    "        last_epoch_times[batch_size] = last_epoch_time\n",
    "        print(f\"batch size {batch_size}: mean accuracy: {sum(accuracies[batch_size]) / fold:>4f}; mean last epoch time {sum(last_epoch_times[batch_size]) / fold:>4f}\")\n",
    "\n",
    "    return accuracies, last_epoch_times\n",
    "\n",
    "batch_sizes = [64, 128, 256, 512]\n",
    "cross_validation_accuracies, cross_validation_times = find_optimal_hyperparameter(X_train_scaled_dict, X_val_scaled_dict, y_train_dict, y_val_dict, batch_sizes, 'batch_size')"
   ]
  },
  {
   "cell_type": "code",
   "execution_count": 7,
   "metadata": {},
   "outputs": [
    {
     "data": {
      "text/plain": [
       "{64: [0.7625712804561949,\n",
       "  0.7247278382581649,\n",
       "  0.7542768273716952,\n",
       "  0.7257646448937273,\n",
       "  0.7625712804561949],\n",
       " 128: [0.7781233799896319,\n",
       "  0.7345775012960083,\n",
       "  0.7485743908761016,\n",
       "  0.7252462415759461,\n",
       "  0.7542768273716952],\n",
       " 256: [0.7563504406428201,\n",
       "  0.7236910316226024,\n",
       "  0.7268014515292898,\n",
       "  0.71850699844479,\n",
       "  0.7579056505961638],\n",
       " 512: [0.7309486780715396,\n",
       "  0.7148781752203214,\n",
       "  0.7268014515292898,\n",
       "  0.7195438050803525,\n",
       "  0.7128045619491965]}"
      ]
     },
     "execution_count": 7,
     "metadata": {},
     "output_type": "execute_result"
    }
   ],
   "source": [
    "cross_validation_accuracies"
   ]
  },
  {
   "cell_type": "markdown",
   "metadata": {},
   "source": [
    "4.Plot scatterplot of mean cross validation accuracies for the different batch sizes."
   ]
  },
  {
   "cell_type": "code",
   "execution_count": 8,
   "metadata": {},
   "outputs": [],
   "source": [
    "# YOUR CODE HERE\n",
    "mean_accuracies = [sum(cross_validation_accuracies[batch_size]) / len(cross_validation_accuracies[batch_size]) for batch_size in batch_sizes]\n",
    "mean_last_epoch_times = [sum(cross_validation_times[batch_size]) / len(cross_validation_times[batch_size]) for batch_size in batch_sizes]\n",
    "\n",
    "def plot_accuracies(batch_sizes, accuracies):\n",
    "    plt.scatter(batch_sizes, accuracies, color='blue')\n",
    "    plt.title('Mean Cross-Validation Accuracies for Different Batch Sizes')\n",
    "    plt.xlabel('Batch Size')\n",
    "    plt.ylabel('Mean Accuracy')\n",
    "    plt.grid(True)\n",
    "    plt.show()\n"
   ]
  },
  {
   "cell_type": "code",
   "execution_count": 9,
   "metadata": {},
   "outputs": [
    {
     "data": {
      "image/png": "[encoded data removed]",
      "text/plain": [
       "<Figure size 640x480 with 1 Axes>"
      ]
     },
     "metadata": {},
     "output_type": "display_data"
    }
   ],
   "source": [
    "plot_accuracies(batch_sizes, mean_accuracies)"
   ]
  },
  {
   "cell_type": "markdown",
   "metadata": {},
   "source": [
    "4.Create a table of time taken to train the network on the last epoch against different batch sizes. Select the optimal batch size and state a reason for your selection."
   ]
  },
  {
   "cell_type": "code",
   "execution_count": 10,
   "metadata": {},
   "outputs": [
    {
     "data": {
      "text/html": [
       "<div>\n",
       "<style scoped>\n",
       "    .dataframe tbody tr th:only-of-type {\n",
       "        vertical-align: middle;\n",
       "    }\n",
       "\n",
       "    .dataframe tbody tr th {\n",
       "        vertical-align: top;\n",
       "    }\n",
       "\n",
       "    .dataframe thead th {\n",
       "        text-align: right;\n",
       "    }\n",
       "</style>\n",
       "<table border=\"1\" class=\"dataframe\">\n",
       "  <thead>\n",
       "    <tr style=\"text-align: right;\">\n",
       "      <th></th>\n",
       "      <th>Batch Size</th>\n",
       "      <th>Last Epoch Time</th>\n",
       "    </tr>\n",
       "  </thead>\n",
       "  <tbody>\n",
       "    <tr>\n",
       "      <th>0</th>\n",
       "      <td>64</td>\n",
       "      <td>0.174711</td>\n",
       "    </tr>\n",
       "    <tr>\n",
       "      <th>1</th>\n",
       "      <td>128</td>\n",
       "      <td>0.098945</td>\n",
       "    </tr>\n",
       "    <tr>\n",
       "      <th>2</th>\n",
       "      <td>256</td>\n",
       "      <td>0.070778</td>\n",
       "    </tr>\n",
       "    <tr>\n",
       "      <th>3</th>\n",
       "      <td>512</td>\n",
       "      <td>0.054278</td>\n",
       "    </tr>\n",
       "  </tbody>\n",
       "</table>\n",
       "</div>"
      ],
      "text/plain": [
       "   Batch Size  Last Epoch Time\n",
       "0          64         0.174711\n",
       "1         128         0.098945\n",
       "2         256         0.070778\n",
       "3         512         0.054278"
      ]
     },
     "execution_count": 10,
     "metadata": {},
     "output_type": "execute_result"
    }
   ],
   "source": [
    "df = pd.DataFrame({'Batch Size': batch_sizes,\n",
    "                   'Last Epoch Time': mean_last_epoch_times\n",
    "                  })\n",
    "df"
   ]
  },
  {
   "cell_type": "code",
   "execution_count": null,
   "metadata": {},
   "outputs": [],
   "source": []
  },
  {
   "cell_type": "code",
   "execution_count": 11,
   "metadata": {},
   "outputs": [],
   "source": [
    "# YOUR CODE HERE\n",
    "optimal_batch_size = 128\n",
    "reason = \"128 is a number in between. Smaller batchsize help it easier to escape overfitting and local minima but introduce noise and take longer to train, while larger could lead to overfitting but have smoother convergence. 128 is in between and could balance the 2 factors well.\""
   ]
  },
  {
   "cell_type": "code",
   "execution_count": null,
   "metadata": {},
   "outputs": [],
   "source": []
  }
 ],
 "metadata": {
  "kernelspec": {
   "display_name": "Inference",
   "language": "python",
   "name": "python3"
  },
  "language_info": {
   "codemirror_mode": {
    "name": "ipython",
    "version": 3
   },
   "file_extension": ".py",
   "mimetype": "text/x-python",
   "name": "python",
   "nbconvert_exporter": "python",
   "pygments_lexer": "ipython3",
   "version": "3.11.4"
  }
 },
 "nbformat": 4,
 "nbformat_minor": 2
}
